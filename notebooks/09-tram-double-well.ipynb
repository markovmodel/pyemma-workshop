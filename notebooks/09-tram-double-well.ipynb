{
 "cells": [
  {
   "cell_type": "markdown",
   "id": "b1e6f196",
   "metadata": {},
   "source": [
    "# Analysing a 1D double well using TRAM"
   ]
  },
  {
   "cell_type": "markdown",
   "id": "6c7aa563",
   "metadata": {},
   "source": [
    "Import deeptime and other preliminaries..."
   ]
  },
  {
   "cell_type": "code",
   "execution_count": null,
   "id": "b5031313",
   "metadata": {},
   "outputs": [],
   "source": [
    "import numpy as np\n",
    "import scipy\n",
    "import matplotlib.pyplot as plt\n",
    "from tqdm.notebook import tqdm\n",
    "\n",
    "from deeptime.clustering import KMeans\n",
    "from deeptime.markov.msm import TRAM, TRAMDataset"
   ]
  },
  {
   "cell_type": "markdown",
   "id": "cbe3ea65",
   "metadata": {},
   "source": [
    "## The system\n",
    "We define the potential to be a simple double well."
   ]
  },
  {
   "cell_type": "code",
   "execution_count": null,
   "id": "bbab87e3",
   "metadata": {},
   "outputs": [],
   "source": [
    "def potential(x):\n",
    "    return 10 * (x - 1) ** 4 * (x + 1) ** 4"
   ]
  },
  {
   "cell_type": "markdown",
   "id": "95e3e1f8",
   "metadata": {},
   "source": [
    "Plot the potential over the range of interest"
   ]
  },
  {
   "cell_type": "code",
   "execution_count": null,
   "id": "523a52bb",
   "metadata": {},
   "outputs": [],
   "source": [
    "x_min = -1.5\n",
    "x_max = 1.5\n",
    "\n",
    "xs = np.linspace(x_min, x_max, num=100) # We will sample 100 discrete bins\n",
    "plt.plot(xs, potential(xs));"
   ]
  },
  {
   "cell_type": "markdown",
   "id": "4009e151",
   "metadata": {},
   "source": [
    "## Sampling\n",
    "\n",
    "The following is a simple markov-chain Monte Carlo (MCMC) sampling algorithm that samples our potential `U`."
   ]
  },
  {
   "cell_type": "code",
   "execution_count": null,
   "id": "2fb29be5",
   "metadata": {},
   "outputs": [],
   "source": [
    "# this is a simple markov-chain monte carlo (MCMC) sampler that samples a trajectory\n",
    "# in an n-dimensional space given a potential function U.\n",
    "def sample_MCMC(U, d, beta=1.0, n_steps=1000, max_stepsize=1.):\n",
    "    trajectory = np.zeros((n_steps, d), dtype=np.float32)\n",
    "    p = lambda u: np.exp(-beta * u)\n",
    "    r_prev = np.random.uniform(0, 8, size=d)\n",
    "\n",
    "    for n in range(n_steps):\n",
    "\n",
    "        r = r_prev + 2 * max_stepsize * (np.random.uniform(size=d)) - max_stepsize\n",
    "\n",
    "        delta = U(r) - U(r_prev)\n",
    "        if delta > 0:\n",
    "            if p(delta) < np.random.uniform():\n",
    "                r = r_prev\n",
    "            else:\n",
    "                r_prev = r\n",
    "        else:\n",
    "            r_prev = r\n",
    "\n",
    "        trajectory[n] = r\n",
    "    return trajectory"
   ]
  },
  {
   "cell_type": "markdown",
   "id": "2e9bc28a",
   "metadata": {},
   "source": [
    "### An example trajectory\n",
    "We sample an example trajectory. As we will very likely see in the histogram, we get stuck in one of the wells, and don't cross the barrier."
   ]
  },
  {
   "cell_type": "code",
   "execution_count": null,
   "id": "dd018fac",
   "metadata": {},
   "outputs": [],
   "source": [
    "traj = sample_MCMC(potential, 1, n_steps=100)\n",
    "\n",
    "plt.hist(traj, bins=10, density=True, color='C1');\n",
    "plt.plot(xs, potential(xs))\n",
    "plt.xlim(x_min, x_max);"
   ]
  },
  {
   "cell_type": "markdown",
   "id": "27ff73cd",
   "metadata": {},
   "source": [
    "### Sampling at multiple temperatures\n",
    "To solve this sampling problem we will sample at multiple temperatures. We define six thermodynamic states by their temperatures. The unnormalized probabilities for each temperature are plotted. As we can see, the higher the temperature, the more flattened the shape of the probability distribution becomes."
   ]
  },
  {
   "cell_type": "code",
   "execution_count": null,
   "id": "3ad712d8",
   "metadata": {},
   "outputs": [],
   "source": [
    "temperatures = [1, 10, 20, 30, 40, 50]  # six temperatures to perform parallel tempering.\n",
    "\n",
    "for T in temperatures:\n",
    "    plt.plot(xs, np.exp(-(1/T)* potential(xs)))"
   ]
  },
  {
   "cell_type": "markdown",
   "id": "3b4b2619",
   "metadata": {},
   "source": [
    "Now we will sample a trajectory for each of the the temperatures."
   ]
  },
  {
   "cell_type": "code",
   "execution_count": null,
   "id": "ca2843df",
   "metadata": {},
   "outputs": [],
   "source": [
    "N_SAMPLES_PER_TRAJ = 10000\n",
    "trajectories = []\n",
    "\n",
    "for T in temperatures:\n",
    "    print(f\"sampling for T={T} ...\")\n",
    "    traj = sample_MCMC(potential, 1, beta=1/T, n_steps=N_SAMPLES_PER_TRAJ, max_stepsize=2.)\n",
    "    trajectories.append(traj.squeeze())\n",
    "print('done!')"
   ]
  },
  {
   "cell_type": "markdown",
   "id": "c124f6ff",
   "metadata": {},
   "source": [
    "We can plot a histogram of all trajectories to see the distribution we sample. By sampling at multiple temperatures, we are now able to sample in the transition region."
   ]
  },
  {
   "cell_type": "code",
   "execution_count": null,
   "id": "3f72b2d8",
   "metadata": {},
   "outputs": [],
   "source": [
    "plt.hist(np.concatenate(trajectories), bins=100, density=True, color='C1',\n",
    "         label='Histogram over visited states');"
   ]
  },
  {
   "cell_type": "markdown",
   "id": "e9ac48f1",
   "metadata": {},
   "source": [
    "## Analysing the data with TRAM\n",
    "Now we want to recombine our data to obtain the original potential function. We do this by analysing our data using TRAM. \n",
    "\n",
    "### Bias matrices\n",
    "First, we construct the bias energy matrices by computing the bias potential for each sample in each state. The bias energy for a temperature biased simulation is given by $b^k(x) = (\\beta^k - \\beta^0) U^0(x)$. In this example, we assume all quantities are unitless.\n",
    "\n",
    "When we print the shape of one of the bias matrices we see it has shape `(N, S)`, `N` being the number of samples, and `S` the number of thermodynamic states. Thus, for each sample we have computed the energy of that sample in _all_ states."
   ]
  },
  {
   "cell_type": "code",
   "execution_count": null,
   "id": "e103cf89",
   "metadata": {},
   "outputs": [],
   "source": [
    "bias_matrices = []\n",
    "\n",
    "betas = np.asarray(temperatures, dtype=float)**-1\n",
    "bias_factors = betas - betas[0]\n",
    "\n",
    "for traj in trajectories:\n",
    "    energies = potential(traj)\n",
    "    bias_potentials = energies[:, None] * bias_factors\n",
    "    bias_matrices.append(bias_potentials)\n",
    "    \n",
    "print(bias_matrices[0].shape)"
   ]
  },
  {
   "cell_type": "markdown",
   "id": "cd19b290",
   "metadata": {},
   "source": [
    "### The discrete trajectories\n",
    "Now we discretize our samples into 10 Markov states along the x-axis. The discretized trajectories (`dtrajs`) are what allow `TRAM` to compute state counts and transition counts."
   ]
  },
  {
   "cell_type": "code",
   "execution_count": null,
   "id": "716157f8",
   "metadata": {},
   "outputs": [],
   "source": [
    "n_bins = 10\n",
    "markov_states = np.linspace(x_min, x_max, n_bins, endpoint=False)\n",
    "\n",
    "dtrajs = [np.digitize(traj, markov_states, right=False) for traj in trajectories]"
   ]
  },
  {
   "cell_type": "markdown",
   "id": "6d164679",
   "metadata": {},
   "source": [
    "### Applying TRAM\n",
    "Now, we are ready to analyse the data using TRAM. We set `connectivity='summed_count_matrix'` because we assume all states are connected since they are distributed along a one-dimensional axis. In a realistic scenario, you should reduce your data to the largest connected set after clustering."
   ]
  },
  {
   "cell_type": "code",
   "execution_count": null,
   "id": "df247d8b",
   "metadata": {},
   "outputs": [],
   "source": [
    "# first construct the dataset...\n",
    "dataset = TRAMDataset(dtrajs=dtrajs, bias_matrices=bias_matrices)\n",
    "dataset.restrict_to_largest_connected_set(connectivity='summed_count_matrix', progress=tqdm)\n",
    "\n",
    "# ... and use that run TRAM \n",
    "tram = TRAM(lagtime=10, maxiter=1000, progress=tqdm, callback_interval=3)\n",
    "model = tram.fit_fetch((dtrajs, bias_matrices))"
   ]
  },
  {
   "cell_type": "markdown",
   "id": "25365e43",
   "metadata": {},
   "source": [
    "## Estimating the PMF\n",
    "Now we want to recover the potential of mean force (PMF). To do this, we define a number of bins (in this case 25) that we want to calculate the unbiased PMF over. We essentially calculate a probability distribution over all bins, and then take the negative logarithm to recover the PMF. "
   ]
  },
  {
   "cell_type": "code",
   "execution_count": null,
   "id": "32c9b6f2",
   "metadata": {},
   "outputs": [],
   "source": [
    "n_bins = 25\n",
    "bins = np.linspace(-1.5, 1.5, n_bins)\n",
    "\n",
    "# the bin number for each sample. Samples are binned into 25 bins\n",
    "bin_numbers = [np.digitize(traj, bins, right=True) for traj in trajectories]\n",
    "\n",
    "# pass samples to the model with their corresponding bin numbers\n",
    "pmf = model.compute_PMF(dtrajs, bias_matrices, bin_numbers, n_bins = n_bins)\n",
    "plt.plot(bins, pmf - pmf.min())\n",
    "\n",
    "# compare with the original distribution, shifted so that the minimum lies at zero.\n",
    "plt.plot(bins, potential(bins) - potential(bins).min(), 'k--');"
   ]
  }
 ],
 "metadata": {
  "kernelspec": {
   "display_name": "Python 3 (ipykernel)",
   "language": "python",
   "name": "python3"
  },
  "language_info": {
   "codemirror_mode": {
    "name": "ipython",
    "version": 3
   },
   "file_extension": ".py",
   "mimetype": "text/x-python",
   "name": "python",
   "nbconvert_exporter": "python",
   "pygments_lexer": "ipython3",
   "version": "3.9.10"
  },
  "toc": {
   "base_numbering": 1,
   "nav_menu": {},
   "number_sections": true,
   "sideBar": true,
   "skip_h1_title": false,
   "title_cell": "Table of Contents",
   "title_sidebar": "Contents",
   "toc_cell": false,
   "toc_position": {},
   "toc_section_display": true,
   "toc_window_display": false
  }
 },
 "nbformat": 4,
 "nbformat_minor": 5
}
