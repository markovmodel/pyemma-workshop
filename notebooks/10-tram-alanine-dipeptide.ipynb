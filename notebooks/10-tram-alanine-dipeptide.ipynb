{
 "cells": [
  {
   "cell_type": "markdown",
   "id": "49edcefc",
   "metadata": {},
   "source": [
    "# Analysing alanine dipeptide with TRAM\n",
    "As an excercise, find the potential of mean force (PMF) with respect to the torsion angles of alanine dipeptide.\n",
    "\n",
    "Alanine dipeptide is a small peptide which is often used as a model system. It consists of 21 atoms, and we are interested in two backbone torsion angles $\\phi$ and $\\psi$.\n",
    "\n",
    "![Alanine dipeptide](img/alanine.png)\n",
    "(image source: https://www.cp2k.org/)\n",
    "\n",
    "We want to know how alanine dipeptide is structured, specifically, what combinations of these two torsion angles are energetically favourable, and which are unfavourable.\n",
    "\n",
    "To do this, simulations have been performed at 21 different temperatures between 300K and 500K. Each simulation corresponds to one thermodynamic state, and 10000 samples were taken during each simulation (energies and torsion angles have been stored).\n",
    "\n",
    "Use TRAM to combine the data from these different simulations, and estimate the free energy of each state. Then use those free energies to estimate the free energy surface as a function of the two torsion angles."
   ]
  },
  {
   "cell_type": "markdown",
   "id": "ff2b1023",
   "metadata": {},
   "source": [
    "## Input data\n",
    "The temperatures of the different simulations (i.e. replica's, i.e. thermodynamic states) are given, as well as some useful imports and constants:"
   ]
  },
  {
   "cell_type": "code",
   "execution_count": null,
   "id": "13e290fc",
   "metadata": {},
   "outputs": [],
   "source": [
    "import numpy as np\n",
    "import matplotlib.pyplot as plt\n",
    "from tqdm.notebook import tqdm\n",
    "from deeptime.clustering import KMeans\n",
    "from deeptime.markov.msm import TRAMDataset, TRAM\n",
    "import mdshare\n",
    "\n",
    "\n",
    "N_REPLICAS = 10 # total number of temperature replicas (=simulations)\n",
    "SAMPLES_PER_T = 10000 # number of samples that were taken per simulation\n",
    "\n",
    "temperatures = np.arange(300, 501, N_REPLICAS) # the temperatures of each simulation\n",
    "\n",
    "# kBT in kJ/mol\n",
    "kB_kJ = 0.00831446261815324  \n",
    "\n",
    "# kBT in kcal/mol\n",
    "kB_kcal = 0.0019872042586408316"
   ]
  },
  {
   "cell_type": "markdown",
   "id": "c1117bcd",
   "metadata": {},
   "source": [
    "The input data consists of energies and angles. These are loaded into lists, each lists is of length `N_REPLICAS`. The `i`-th element in each list contains the data for the temperature at index `i`. In other words:\n",
    "\n",
    "* `angles[i][n]` is of shape `(2)` and contains angles $\\phi$ and $\\psi$ of the `n`-th sample taken in simulation `i` (i.e. at temperature `i`), in degrees.\n",
    "\n",
    "* `energies[i][n]` is the potential energy belonging to that same sample, in kcal/mol. "
   ]
  },
  {
   "cell_type": "code",
   "execution_count": null,
   "id": "95a5fd5c",
   "metadata": {},
   "outputs": [],
   "source": [
    "angles_file_name = mdshare.fetch('alanine_dipeptide_parallel_tempering_dihedrals.npz', working_directory='data')\n",
    "energies_file_name = mdshare.fetch('alanine_dipeptide_parallel_tempering_energies.npz', working_directory='data')\n",
    "\n",
    "angles = []\n",
    "energies = []\n",
    "\n",
    "for T in temperatures:\n",
    "    angles.append(np.load(angles_file_name)[f't{T}'])\n",
    "    energies.append(np.load(energies_file_name)[f't{T}'])\n",
    "    \n",
    "print(f\"angles    -    length: {len(angles)},  shape: {angles[0].shape}\")\n",
    "print(f\"energies  -    length: {len(energies)},  shape: {energies[0].shape}\")"
   ]
  },
  {
   "cell_type": "markdown",
   "id": "959aa196",
   "metadata": {},
   "source": [
    "## Construct the bias matrix\n",
    "The energies are used to fill the bias matrix. For each sample, the bias needs to be computed in each thermodynamic state. In other words: for each sample, compute the bias energy $b^k(x) = U^k(x) - U^0(x)$ for every thermodynamic state $k$. "
   ]
  },
  {
   "cell_type": "markdown",
   "id": "a7129ee0",
   "metadata": {},
   "source": [
    "First compute the inverse temperature, $\\beta$ for each thermodynamic state. Note: the energies are stored in kcal/mol, but the bias energies will need to be non-dimensional! Choose $\\beta$ accordingly. See section 0 for some useful constants."
   ]
  },
  {
   "cell_type": "code",
   "execution_count": null,
   "id": "aef998e8",
   "metadata": {
    "solution2": "hidden",
    "solution2_first": true
   },
   "outputs": [],
   "source": [
    "betas ="
   ]
  },
  {
   "cell_type": "code",
   "execution_count": null,
   "id": "6d629eb7",
   "metadata": {
    "solution2": "hidden"
   },
   "outputs": [],
   "source": [
    "betas = kB_kJ * temperatures.astype(float)**(-1)"
   ]
  },
  {
   "cell_type": "markdown",
   "id": "c3834ebb",
   "metadata": {},
   "source": [
    "Now compute the bias matrices and add them to the list. You should obtain a list of bias matrices of length `N_REPLICAS`, with each bias matrix of shape `(SAMPLES_PER_T, N_REPLICAS)`"
   ]
  },
  {
   "cell_type": "code",
   "execution_count": null,
   "id": "42336736",
   "metadata": {
    "solution2": "hidden",
    "solution2_first": true
   },
   "outputs": [],
   "source": [
    "bias_matrices = []"
   ]
  },
  {
   "cell_type": "code",
   "execution_count": null,
   "id": "668703fb",
   "metadata": {
    "solution2": "hidden"
   },
   "outputs": [],
   "source": [
    "bias_matrices = []\n",
    "\n",
    "for k, T in enumerate(temperatures):\n",
    "    # apply the bias factors to the potential energies to produce bias energies\n",
    "    bias_matrices.append((betas - betas[0]) * energies[k][:, None])"
   ]
  },
  {
   "cell_type": "markdown",
   "id": "cba9174b",
   "metadata": {},
   "source": [
    "## Discretize the trajectories\n",
    "The torsion angles $\\phi$ and $\\psi$ need to be transformed into discrete trajectories from which the transition counts are computed.\n",
    "\n",
    "Discretize the angles into Markov states using an appropriate clustering method (for example Kmeans++: https://deeptime-ml.github.io/latest/notebooks/clustering.html#k-means++-initialization)."
   ]
  },
  {
   "cell_type": "code",
   "execution_count": null,
   "id": "71b704f7",
   "metadata": {
    "solution2": "hidden",
    "solution2_first": true
   },
   "outputs": [],
   "source": [
    "estimator ="
   ]
  },
  {
   "cell_type": "code",
   "execution_count": null,
   "id": "fd930c38",
   "metadata": {
    "solution2": "hidden"
   },
   "outputs": [],
   "source": [
    "estimator = KMeans(\n",
    "    n_clusters=20, # we will cluster data to 20 Markov states\n",
    "    init_strategy='kmeans++',\n",
    "    max_iter=10,\n",
    "    fixed_seed=13,\n",
    "    n_jobs=8\n",
    ")"
   ]
  },
  {
   "cell_type": "markdown",
   "id": "80205e28",
   "metadata": {},
   "source": [
    "Use the estimator to obtain a clustering mode."
   ]
  },
  {
   "cell_type": "code",
   "execution_count": null,
   "id": "2e59ecd1",
   "metadata": {
    "solution2": "hidden",
    "solution2_first": true
   },
   "outputs": [],
   "source": [
    "clustering ="
   ]
  },
  {
   "cell_type": "code",
   "execution_count": null,
   "id": "ec67c678",
   "metadata": {
    "solution2": "hidden"
   },
   "outputs": [],
   "source": [
    "clustering = estimator.fit(angles).fetch_model()"
   ]
  },
  {
   "cell_type": "markdown",
   "id": "453b5019",
   "metadata": {},
   "source": [
    "Now compute the dtrajs by applying the clustering transformation."
   ]
  },
  {
   "cell_type": "code",
   "execution_count": null,
   "id": "0179179d",
   "metadata": {
    "solution2": "hidden",
    "solution2_first": true
   },
   "outputs": [],
   "source": [
    "dtrajs = "
   ]
  },
  {
   "cell_type": "code",
   "execution_count": null,
   "id": "4a5434f4",
   "metadata": {
    "solution2": "hidden"
   },
   "outputs": [],
   "source": [
    "dtrajs = []\n",
    "\n",
    "for A in angles:\n",
    "    dtrajs.append(np.asarray(clustering.transform(A)))"
   ]
  },
  {
   "cell_type": "markdown",
   "id": "24fd2d28",
   "metadata": {},
   "source": [
    "## Analyse the data with TRAM\n",
    "Now use TRAM to estimate the free energies. First construct a TRAMDataset, and use this to restrict the data to the largest connected set."
   ]
  },
  {
   "cell_type": "code",
   "execution_count": null,
   "id": "625b2283",
   "metadata": {
    "solution2": "hidden",
    "solution2_first": true
   },
   "outputs": [],
   "source": [
    "dataset = "
   ]
  },
  {
   "cell_type": "code",
   "execution_count": null,
   "id": "80fe494a",
   "metadata": {
    "solution2": "hidden"
   },
   "outputs": [],
   "source": [
    "dataset = TRAMDataset(dtrajs, bias_matrices, lagtime=10)\n",
    "dataset.restrict_to_largest_connected_set(connectivity='BAR_variance')"
   ]
  },
  {
   "cell_type": "markdown",
   "id": "1da14811",
   "metadata": {},
   "source": [
    "Now create the TRAM estimator and fit the model.\n",
    "\n",
    "Convergence can take some time (you will need at least a few 100 iterations). Use the `MBAR` initialization strategy to speed up the initial convergence, and pass a tqdm progress bar to the TRAM object to visualize the progress.\n",
    "\n",
    "It may help to run only a few TRAM iterations first, and plot the `TRAMModel.therm_state_energies` as a sanity check, and once everything behaves as you would expect, run TRAM until convergence. \n",
    "(The `therm_state_energies` are the free energies of the thermodynamic states. Convince yourself that they behave as expected, given the increasing temperatures)."
   ]
  },
  {
   "cell_type": "code",
   "execution_count": null,
   "id": "ef093083",
   "metadata": {
    "solution2": "hidden",
    "solution2_first": true
   },
   "outputs": [],
   "source": [
    "tram_estimator =\n",
    "model = "
   ]
  },
  {
   "cell_type": "code",
   "execution_count": null,
   "id": "928a9f36",
   "metadata": {
    "solution2": "hidden"
   },
   "outputs": [],
   "source": [
    "tram_estimator = TRAM(lagtime=10, maxiter=5000, progress=tqdm, maxerr=1e-8,  \n",
    "                      init_strategy=\"MBAR\", init_maxerr=1e-10, init_maxiter=1000)\n",
    "model = tram_estimator.fit_fetch(dataset)\n",
    "\n",
    "plt.plot(model.therm_state_energies)"
   ]
  },
  {
   "cell_type": "markdown",
   "id": "d130cbda",
   "metadata": {},
   "source": [
    "## Recover the PMF\n",
    "Recover the free energy surface as a function of the torsion angles. For this, you will need to discretize the angles into a one-dimensional set of bins over the space (-180, 180). Choose a number of bins and use numpy's digitize to discretize each angle."
   ]
  },
  {
   "cell_type": "code",
   "execution_count": null,
   "id": "69532610",
   "metadata": {
    "solution2": "hidden",
    "solution2_first": true
   },
   "outputs": [],
   "source": [
    "n_bins = 20\n",
    "bins = np.linspace(-180, 180, n_bins, endpoint=True)\n",
    "binned_angles ="
   ]
  },
  {
   "cell_type": "code",
   "execution_count": null,
   "id": "e7610ec8",
   "metadata": {
    "solution2": "hidden"
   },
   "outputs": [],
   "source": [
    "n_bins = 20\n",
    "bins = np.linspace(-180, 180, n_bins, endpoint=True)\n",
    "binned_angles = np.digitize(angles, np.linspace(-180, 180, n_bins, endpoint=False), right=False) - 1"
   ]
  },
  {
   "cell_type": "markdown",
   "id": "dd012721",
   "metadata": {},
   "source": [
    "Turn the 2-dimensional angle indices into a 1-dimensional index."
   ]
  },
  {
   "cell_type": "code",
   "execution_count": null,
   "id": "896ee377",
   "metadata": {
    "solution2": "hidden",
    "solution2_first": true
   },
   "outputs": [],
   "source": [
    "binned_trajectories ="
   ]
  },
  {
   "cell_type": "code",
   "execution_count": null,
   "id": "d52b6051",
   "metadata": {
    "solution2": "hidden"
   },
   "outputs": [],
   "source": [
    "binned_trajectories = n_bins * binned_angles[:, :, 0] + binned_angles[:, :, 1]"
   ]
  },
  {
   "cell_type": "markdown",
   "id": "ffa227a9",
   "metadata": {},
   "source": [
    "Use the `compute_PMF` method of `TRAMModel` to compute the PMF over the bins. Since we are interested in free energy differences, shift the PMF so that the minimum is at 0."
   ]
  },
  {
   "cell_type": "code",
   "execution_count": null,
   "id": "7e8d3233",
   "metadata": {
    "solution2": "hidden",
    "solution2_first": true
   },
   "outputs": [],
   "source": [
    "pmf ="
   ]
  },
  {
   "cell_type": "code",
   "execution_count": null,
   "id": "c7aa1a40",
   "metadata": {
    "solution2": "hidden"
   },
   "outputs": [],
   "source": [
    "pmf = model.compute_PMF(dtrajs, bias_matrices, binned_trajectories) * kB_kcal * 300\n",
    "pmf -= pmf.min()"
   ]
  },
  {
   "cell_type": "markdown",
   "id": "28eb9120",
   "metadata": {},
   "source": [
    "The plot of the free energy surface with on the x- and y-axes torsion angles is called a Ramachandran plot. Make such a plot for alanine dipeptide, showing the energy surface in kcal/mol at T=300K (recall that TRAM works with unitless quantities). You can use matplotlibs `contourf` for visualization, and numpy's `meshgrid` to construct 2D coordinates from the bins.\n",
    "\n",
    "* Have you recovered the meta-stable states?\n",
    "* Can you identify the transition path between the different states?\n",
    "* What are the free energy differences?"
   ]
  },
  {
   "cell_type": "code",
   "execution_count": null,
   "id": "b145acac",
   "metadata": {
    "solution2": "hidden",
    "solution2_first": true
   },
   "outputs": [],
   "source": []
  },
  {
   "cell_type": "code",
   "execution_count": null,
   "id": "70c77959",
   "metadata": {
    "solution2": "hidden"
   },
   "outputs": [],
   "source": [
    "XS, YS = np.meshgrid(bins, bins)\n",
    "im = plt.contourf(XS, YS, np.reshape(pmf, [n_bins, n_bins]).T, cmap='jet', levels=50)\n",
    "plt.colorbar(im);"
   ]
  },
  {
   "cell_type": "markdown",
   "id": "ed8d09dc",
   "metadata": {},
   "source": [
    "What else?\n",
    "* the underlying Markov Models of the states that you clustered the data in, are stored in `model.msm_collection`. Use these to analyse kinetic properties\n",
    "* What about the lagtime dependence of the model?"
   ]
  }
 ],
 "metadata": {
  "kernelspec": {
   "display_name": "Python 3 (ipykernel)",
   "language": "python",
   "name": "python3"
  },
  "language_info": {
   "codemirror_mode": {
    "name": "ipython",
    "version": 3
   },
   "file_extension": ".py",
   "mimetype": "text/x-python",
   "name": "python",
   "nbconvert_exporter": "python",
   "pygments_lexer": "ipython3",
   "version": "3.9.10"
  },
  "toc": {
   "base_numbering": 1,
   "nav_menu": {},
   "number_sections": true,
   "sideBar": true,
   "skip_h1_title": false,
   "title_cell": "Table of Contents",
   "title_sidebar": "Contents",
   "toc_cell": false,
   "toc_position": {},
   "toc_section_display": true,
   "toc_window_display": false
  }
 },
 "nbformat": 4,
 "nbformat_minor": 5
}
